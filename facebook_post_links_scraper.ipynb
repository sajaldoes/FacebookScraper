{
 "cells": [
  {
   "cell_type": "code",
   "execution_count": 34,
   "metadata": {},
   "outputs": [],
   "source": [
    "from getpass import getpass\n",
    "import pandas as pd\n",
    "from selenium import webdriver\n",
    "from selenium.webdriver.common.keys import Keys"
   ]
  },
  {
   "cell_type": "code",
   "execution_count": 35,
   "metadata": {},
   "outputs": [],
   "source": [
    "# Chrome Setup\n",
    "driver = webdriver.Chrome()\n",
    "\n",
    "driver.get(\"https://www.facebook.com/login\")"
   ]
  },
  {
   "cell_type": "code",
   "execution_count": null,
   "metadata": {},
   "outputs": [],
   "source": [
    "# Login with Username and Password\n",
    "username = driver.find_element('xpath','//*[@id=\"email\"]')\n",
    "my_username = getpass(prompt=\"Your Facebook email or phone:\")\n",
    "username.send_keys(my_username)\n",
    "\n",
    "password = driver.find_element('xpath','//*[@id=\"pass\"]')\n",
    "my_password = getpass(prompt=\"Your Password:\")\n",
    "password.send_keys(my_password)\n",
    "\n",
    "password.send_keys(Keys.RETURN)"
   ]
  },
  {
   "attachments": {},
   "cell_type": "markdown",
   "metadata": {},
   "source": [
    "### Search your keywords on any group or page to find out the posts.\n",
    "Then run the next cell to get a CSV of links with comments count."
   ]
  },
  {
   "cell_type": "code",
   "execution_count": 38,
   "metadata": {},
   "outputs": [
    {
     "name": "stdout",
     "output_type": "stream",
     "text": [
      "Total Posts: 0\n",
      "Total Links: 0\n"
     ]
    }
   ],
   "source": [
    "comments_count = driver.find_elements('xpath','//div/div[1]/div/div[3]/div/div/div[1]/div[1]/div[2]/div/div/div/div/div/div/div/div/div/div/div[3]/div/div[3]/div/span')\n",
    "counts = []\n",
    "for count in comments_count:\n",
    "\tcount_text = count.text.strip()\n",
    "\tif 'comments' in count_text:\n",
    "\t\tcounts.append(count_text)\n",
    "\n",
    "print('Total Posts:',len(counts))\n",
    "\n",
    "comment_links = driver.find_elements('xpath','//div/div[1]/div/div[3]/div/div/div[1]/div[1]/div[2]/div/div/div/div/div/div/div/div/div/div/div[3]/a')\n",
    "\n",
    "links = []\n",
    "for link in comment_links:\n",
    "\tlinks.append(link.get_attribute(\"href\"))\n",
    "\n",
    "print('Total Links:',len(links))\n",
    "\n",
    "df = pd.DataFrame(zip(counts, links), columns=['Count', 'Link'])"
   ]
  },
  {
   "cell_type": "code",
   "execution_count": 90,
   "metadata": {},
   "outputs": [
    {
     "name": "stdout",
     "output_type": "stream",
     "text": [
      "links.csv Created\n"
     ]
    }
   ],
   "source": [
    "t_count = len(links)\n",
    "for i in range(0,len(links)):\n",
    "\tif 'K' not in df['Count'][i]:\n",
    "\t\tdf = df.drop(i)\n",
    "\t\tt_count = t_count - 1\n",
    "\n",
    "df = df.reset_index(drop=True)\n",
    "\n",
    "df.to_csv('links.csv', mode='a', index=True)\n",
    "\n",
    "print('links.csv Created')"
   ]
  }
 ],
 "metadata": {
  "kernelspec": {
   "display_name": "base",
   "language": "python",
   "name": "python3"
  },
  "language_info": {
   "codemirror_mode": {
    "name": "ipython",
    "version": 3
   },
   "file_extension": ".py",
   "mimetype": "text/x-python",
   "name": "python",
   "nbconvert_exporter": "python",
   "pygments_lexer": "ipython3",
   "version": "3.9.12 (main, Apr  4 2022, 05:22:27) [MSC v.1916 64 bit (AMD64)]"
  },
  "orig_nbformat": 4,
  "vscode": {
   "interpreter": {
    "hash": "bc5c8107e9b9f584c67bdb35b448e63767bd7fdb4fdaa02efc50757b45f9e013"
   }
  }
 },
 "nbformat": 4,
 "nbformat_minor": 2
}
