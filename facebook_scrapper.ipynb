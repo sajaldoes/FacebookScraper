{
 "cells": [
  {
   "cell_type": "code",
   "execution_count": 34,
   "metadata": {},
   "outputs": [],
   "source": [
    "from getpass import getpass\n",
    "import time\n",
    "import pandas as pd\n",
    "import re\n",
    "from selenium import webdriver\n",
    "from selenium.webdriver.common.keys import Keys\n",
    "from selenium.common.exceptions import NoSuchElementException\n",
    "from selenium.common.exceptions import StaleElementReferenceException\n",
    "from selenium.webdriver.support import expected_conditions as EC\n",
    "from selenium.webdriver.common.by import By"
   ]
  },
  {
   "cell_type": "code",
   "execution_count": 35,
   "metadata": {},
   "outputs": [],
   "source": [
    "# Chrome Setup\n",
    "driver = webdriver.Chrome()\n",
    "\n",
    "driver.get(\"https://www.facebook.com/login\")"
   ]
  },
  {
   "cell_type": "code",
   "execution_count": null,
   "metadata": {},
   "outputs": [],
   "source": [
    "# Login with Username and Password\n",
    "username = driver.find_element('xpath','//*[@id=\"email\"]')\n",
    "my_username = getpass(prompt=\"Your Facebook email or phone:\")\n",
    "username.send_keys(my_username)\n",
    "\n",
    "password = driver.find_element('xpath','//*[@id=\"pass\"]')\n",
    "my_password = getpass(prompt=\"Your Password:\")\n",
    "password.send_keys(my_password)\n",
    "\n",
    "password.send_keys(Keys.RETURN)"
   ]
  },
  {
   "cell_type": "markdown",
   "metadata": {},
   "source": [
    "## Comments Crawling "
   ]
  },
  {
   "cell_type": "code",
   "execution_count": 12,
   "metadata": {},
   "outputs": [
    {
     "data": {
      "text/html": [
       "<div>\n",
       "<style scoped>\n",
       "    .dataframe tbody tr th:only-of-type {\n",
       "        vertical-align: middle;\n",
       "    }\n",
       "\n",
       "    .dataframe tbody tr th {\n",
       "        vertical-align: top;\n",
       "    }\n",
       "\n",
       "    .dataframe thead th {\n",
       "        text-align: right;\n",
       "    }\n",
       "</style>\n",
       "<table border=\"1\" class=\"dataframe\">\n",
       "  <thead>\n",
       "    <tr style=\"text-align: right;\">\n",
       "      <th></th>\n",
       "      <th>news</th>\n",
       "      <th>paper</th>\n",
       "      <th>comment_count</th>\n",
       "      <th>id</th>\n",
       "      <th>link</th>\n",
       "    </tr>\n",
       "  </thead>\n",
       "  <tbody>\n",
       "    <tr>\n",
       "      <th>0</th>\n",
       "      <td>0</td>\n",
       "      <td>0</td>\n",
       "      <td>2.6k</td>\n",
       "      <td>0</td>\n",
       "      <td>https://mbasic.facebook.com/DailyProthomAlo/po...</td>\n",
       "    </tr>\n",
       "    <tr>\n",
       "      <th>1</th>\n",
       "      <td>0</td>\n",
       "      <td>0</td>\n",
       "      <td>2.1k</td>\n",
       "      <td>1</td>\n",
       "      <td>https://mbasic.facebook.com/story.php?story_fb...</td>\n",
       "    </tr>\n",
       "    <tr>\n",
       "      <th>2</th>\n",
       "      <td>0</td>\n",
       "      <td>0</td>\n",
       "      <td>766</td>\n",
       "      <td>2</td>\n",
       "      <td>https://mbasic.facebook.com/DailyProthomAlo/po...</td>\n",
       "    </tr>\n",
       "    <tr>\n",
       "      <th>3</th>\n",
       "      <td>0</td>\n",
       "      <td>1</td>\n",
       "      <td>493</td>\n",
       "      <td>3</td>\n",
       "      <td>https://mbasic.facebook.com/BBCBengaliService/...</td>\n",
       "    </tr>\n",
       "    <tr>\n",
       "      <th>4</th>\n",
       "      <td>0</td>\n",
       "      <td>1</td>\n",
       "      <td>610</td>\n",
       "      <td>4</td>\n",
       "      <td>https://mbasic.facebook.com/BBCBengaliService/...</td>\n",
       "    </tr>\n",
       "    <tr>\n",
       "      <th>...</th>\n",
       "      <td>...</td>\n",
       "      <td>...</td>\n",
       "      <td>...</td>\n",
       "      <td>...</td>\n",
       "      <td>...</td>\n",
       "    </tr>\n",
       "    <tr>\n",
       "      <th>126</th>\n",
       "      <td>10</td>\n",
       "      <td>0</td>\n",
       "      <td>202</td>\n",
       "      <td>127</td>\n",
       "      <td>https://mbasic.facebook.com/DailyProthomAlo/po...</td>\n",
       "    </tr>\n",
       "    <tr>\n",
       "      <th>127</th>\n",
       "      <td>10</td>\n",
       "      <td>0</td>\n",
       "      <td>104</td>\n",
       "      <td>128</td>\n",
       "      <td>https://mbasic.facebook.com/DailyProthomAlo/po...</td>\n",
       "    </tr>\n",
       "    <tr>\n",
       "      <th>128</th>\n",
       "      <td>10</td>\n",
       "      <td>0</td>\n",
       "      <td>33</td>\n",
       "      <td>129</td>\n",
       "      <td>https://mbasic.facebook.com/DailyProthomAlo/po...</td>\n",
       "    </tr>\n",
       "    <tr>\n",
       "      <th>129</th>\n",
       "      <td>10</td>\n",
       "      <td>6</td>\n",
       "      <td>1.1k</td>\n",
       "      <td>126</td>\n",
       "      <td>https://mbasic.facebook.com/story.php?story_fb...</td>\n",
       "    </tr>\n",
       "    <tr>\n",
       "      <th>130</th>\n",
       "      <td>10</td>\n",
       "      <td>7</td>\n",
       "      <td>487</td>\n",
       "      <td>130</td>\n",
       "      <td>https://mbasic.facebook.com/dailymanabzamin/po...</td>\n",
       "    </tr>\n",
       "  </tbody>\n",
       "</table>\n",
       "<p>131 rows × 5 columns</p>\n",
       "</div>"
      ],
      "text/plain": [
       "     news  paper comment_count   id  \\\n",
       "0       0      0          2.6k    0   \n",
       "1       0      0          2.1k    1   \n",
       "2       0      0           766    2   \n",
       "3       0      1           493    3   \n",
       "4       0      1           610    4   \n",
       "..    ...    ...           ...  ...   \n",
       "126    10      0           202  127   \n",
       "127    10      0           104  128   \n",
       "128    10      0            33  129   \n",
       "129    10      6          1.1k  126   \n",
       "130    10      7           487  130   \n",
       "\n",
       "                                                  link  \n",
       "0    https://mbasic.facebook.com/DailyProthomAlo/po...  \n",
       "1    https://mbasic.facebook.com/story.php?story_fb...  \n",
       "2    https://mbasic.facebook.com/DailyProthomAlo/po...  \n",
       "3    https://mbasic.facebook.com/BBCBengaliService/...  \n",
       "4    https://mbasic.facebook.com/BBCBengaliService/...  \n",
       "..                                                 ...  \n",
       "126  https://mbasic.facebook.com/DailyProthomAlo/po...  \n",
       "127  https://mbasic.facebook.com/DailyProthomAlo/po...  \n",
       "128  https://mbasic.facebook.com/DailyProthomAlo/po...  \n",
       "129  https://mbasic.facebook.com/story.php?story_fb...  \n",
       "130  https://mbasic.facebook.com/dailymanabzamin/po...  \n",
       "\n",
       "[131 rows x 5 columns]"
      ]
     },
     "execution_count": 12,
     "metadata": {},
     "output_type": "execute_result"
    }
   ],
   "source": [
    "posts = pd.read_csv('posts.csv')\n",
    "posts"
   ]
  },
  {
   "cell_type": "markdown",
   "metadata": {},
   "source": [
    "# mbasic.facebook.com"
   ]
  },
  {
   "cell_type": "code",
   "execution_count": null,
   "metadata": {},
   "outputs": [],
   "source": [
    "def comment_crawl(i):\n",
    "\tcomments = driver.find_elements('xpath','/html/body/div/div/div[2]/div/div[1]/div[2]/div/div/div/div/div[1]')\n",
    "\t# comments = driver.find_elements('xpath','/html/body/div/div/div[2]/div/div[1]/div/div/div[3]/div[2]/div/div/div/div/div/div[1]') # For photo posts\n",
    "\t\n",
    "\t# if len(comments) == 0:\n",
    "\t# \tcomments = driver.find_elements_by_xpath('/html/body/div/div/div[2]/div/div[1]/div[2]/div/div[4]/div/div/div[1]') [5] for general\n",
    "\t\n",
    "\tfor comment in comments:\n",
    "\t\tcmnt = comment.text.strip()\n",
    "\t\tif cmnt != '' and cmnt not in comment_texts:\n",
    "\t\t\tcomment_texts.append(cmnt)\n",
    "\t\t\tlink_index.append(str(i))\n",
    "\n",
    "def replies_crawl(i):\n",
    "\tcomments = driver.find_elements('xpath','/html/body/div/div/div[2]/div/div[1]/div[3]/div/div/div[1]')\n",
    "\tmentions = driver.find_elements('xpath','/html/body/div/div/div[2]/div/div[1]/div[3]/div/div/div[1]/a')\n",
    "\t\n",
    "\tl = 0\n",
    "\tfor comment in comments:\n",
    "\t\tcmnt = comment.text.strip()\n",
    "\t\ttry:\n",
    "\t\t\tmntn = mentions[l].text.strip()\n",
    "\t\t\tif mntn in cmnt:\n",
    "\t\t\t\tcmnt = cmnt.replace(mntn, '')\n",
    "\t\t\t\tl+=1\n",
    "\t\texcept:\n",
    "\t\t\tpass\n",
    "\t\tcmnt = cmnt.strip()\n",
    "\t\tif cmnt != '' and cmnt not in comment_texts:\n",
    "\t\t\tcomment_texts.append(cmnt)\n",
    "\t\t\tlink_index.append(str(i))\n",
    "\n",
    "for i in range(0, 1):\n",
    "\tcomment_texts = []\n",
    "\tlink_index = []\n",
    "\tlink = posts.loc[i]['link']\n",
    "\tdriver.get(link)\n",
    "\t\n",
    "\twhile(True):\n",
    "\t\tcomment_crawl(i)\n",
    "\t\treplied_btn = driver.find_elements('xpath','/html/body/div/div/div[2]/div/div[1]/div[2]/div/div[5]/div/div/div[4]/div/div/a')\n",
    "\t\ttry:\n",
    "\t\t\tfor j in range(0, len(replied_btn)):\n",
    "\t\t\t\treplied_btn = driver.find_elements('xpath','/html/body/div/div/div[2]/div/div[1]/div[2]/div/div[5]/div/div/div[4]/div/div/a')\n",
    "\t\t\t\treplied_btn[j].click()\n",
    "\t\t\t\treplies_crawl(i)\n",
    "\t\t\t\ttime.sleep(1)\n",
    "\t\t\t\tdriver.back()\n",
    "\t\texcept StaleElementReferenceException as Exception:\n",
    "\t\t\tpass\n",
    "\t\ttry:\n",
    "\t\t\tmore_btn = driver.find_element(\"link text\",\"View more comments…\")\n",
    "\t\t\tmore_btn.click()\n",
    "\t\t\ttime.sleep(1)\n",
    "\t\texcept NoSuchElementException:\n",
    "\t\t\tbreak\n",
    "\t\t\n",
    "\tcomments_df = pd.DataFrame(zip(link_index,comment_texts))\n",
    "\tcomments_df.to_csv('comments.csv', mode='a', index=False, header=False)"
   ]
  },
  {
   "cell_type": "code",
   "execution_count": 12,
   "metadata": {},
   "outputs": [
    {
     "name": "stderr",
     "output_type": "stream",
     "text": [
      "C:\\Users\\sajal\\AppData\\Local\\Temp/ipykernel_24112/3413172473.py:1: FutureWarning: The error_bad_lines argument has been deprecated and will be removed in a future version. Use on_bad_lines in the future.\n",
      "\n",
      "\n",
      "  data = pd.read_csv('comments.csv', error_bad_lines=False)\n",
      "b'Skipping line 134205: expected 2 fields, saw 3\\n'\n"
     ]
    },
    {
     "name": "stdout",
     "output_type": "stream",
     "text": [
      "LinkIndex    136584\n",
      "Comment      136583\n",
      "dtype: int64\n"
     ]
    }
   ],
   "source": [
    "data = pd.read_csv('comments.csv', error_bad_lines=False)\n",
    "print(data.count())"
   ]
  },
  {
   "cell_type": "code",
   "execution_count": 4,
   "metadata": {},
   "outputs": [],
   "source": [
    "data_csv = data.sort_values(by=['LinkIndex'])\n",
    "data_csv.to_csv('comments_final.csv', index=False)"
   ]
  }
 ],
 "metadata": {
  "kernelspec": {
   "display_name": "base",
   "language": "python",
   "name": "python3"
  },
  "language_info": {
   "codemirror_mode": {
    "name": "ipython",
    "version": 3
   },
   "file_extension": ".py",
   "mimetype": "text/x-python",
   "name": "python",
   "nbconvert_exporter": "python",
   "pygments_lexer": "ipython3",
   "version": "3.9.12 (main, Apr  4 2022, 05:22:27) [MSC v.1916 64 bit (AMD64)]"
  },
  "orig_nbformat": 4,
  "vscode": {
   "interpreter": {
    "hash": "bc5c8107e9b9f584c67bdb35b448e63767bd7fdb4fdaa02efc50757b45f9e013"
   }
  }
 },
 "nbformat": 4,
 "nbformat_minor": 2
}
